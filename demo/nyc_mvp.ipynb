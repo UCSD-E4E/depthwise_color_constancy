{
 "cells": [
  {
   "cell_type": "code",
   "execution_count": 1,
   "metadata": {},
   "outputs": [],
   "source": [
    "import os\n",
    "#os.add_dll_directory(r\"C:\\Program Files\\NVIDIA GPU Computing Toolkit\\CUDA\\v12.6\\bin\")\n",
    "\n",
    "import numpy as np\n",
    "import cv2\n",
    "import matplotlib.pyplot as plt\n",
    "from depthwise_color_constancy import depthwise_color_constancy\n",
    "from tqdm import tqdm"
   ]
  },
  {
   "cell_type": "code",
   "execution_count": null,
   "metadata": {},
   "outputs": [
    {
     "name": "stderr",
     "output_type": "stream",
     "text": [
      "[ WARN:0@1.789] global loadsave.cpp:848 imwrite_ Unsupported depth image for selected encoder is fallbacked to CV_8U.\n"
     ]
    },
    {
     "name": "stdout",
     "output_type": "stream",
     "text": [
      "data/nyu2_constancy/living_room_0038_out/37.png\n",
      "data/nyu2_constancy/living_room_0038_out/115.png\n",
      "data/nyu2_constancy/living_room_0038_out/6.png\n",
      "data/nyu2_constancy/living_room_0038_out/49.png\n",
      "data/nyu2_constancy/living_room_0038_out/152.png\n",
      "data/nyu2_constancy/living_room_0038_out/142.png\n",
      "data/nyu2_constancy/living_room_0038_out/94.png\n",
      "data/nyu2_constancy/living_room_0038_out/158.png\n",
      "data/nyu2_constancy/living_room_0038_out/18.png\n",
      "data/nyu2_constancy/living_room_0038_out/167.png\n",
      "data/nyu2_constancy/living_room_0038_out/21.png\n",
      "data/nyu2_constancy/living_room_0038_out/48.png\n",
      "data/nyu2_constancy/living_room_0038_out/75.png\n",
      "data/nyu2_constancy/living_room_0038_out/171.png\n",
      "data/nyu2_constancy/living_room_0038_out/25.png\n",
      "data/nyu2_constancy/living_room_0038_out/13.png\n",
      "data/nyu2_constancy/living_room_0038_out/68.png\n",
      "data/nyu2_constancy/living_room_0038_out/28.png\n",
      "data/nyu2_constancy/living_room_0038_out/161.png\n",
      "data/nyu2_constancy/living_room_0038_out/85.png\n",
      "data/nyu2_constancy/living_room_0038_out/57.png\n",
      "data/nyu2_constancy/living_room_0038_out/34.png\n",
      "data/nyu2_constancy/living_room_0038_out/118.png\n",
      "data/nyu2_constancy/living_room_0038_out/53.png\n",
      "data/nyu2_constancy/living_room_0038_out/11.png\n",
      "data/nyu2_constancy/living_room_0038_out/46.png\n",
      "data/nyu2_constancy/living_room_0038_out/135.png\n",
      "data/nyu2_constancy/living_room_0038_out/39.png\n",
      "data/nyu2_constancy/living_room_0038_out/71.png\n",
      "data/nyu2_constancy/living_room_0038_out/29.png\n",
      "data/nyu2_constancy/living_room_0038_out/14.png\n"
     ]
    },
    {
     "ename": "KeyboardInterrupt",
     "evalue": "",
     "output_type": "error",
     "traceback": [
      "\u001b[31m---------------------------------------------------------------------------\u001b[39m",
      "\u001b[31mKeyboardInterrupt\u001b[39m                         Traceback (most recent call last)",
      "\u001b[36mCell\u001b[39m\u001b[36m \u001b[39m\u001b[32mIn[2]\u001b[39m\u001b[32m, line 28\u001b[39m\n\u001b[32m     21\u001b[39m kernal_shape = np.array([\n\u001b[32m     22\u001b[39m     [\u001b[32m1\u001b[39m,\u001b[32m1\u001b[39m,\u001b[32m1\u001b[39m],\n\u001b[32m     23\u001b[39m     [\u001b[32m1\u001b[39m,\u001b[32m1\u001b[39m,\u001b[32m1\u001b[39m],\n\u001b[32m     24\u001b[39m     [\u001b[32m1\u001b[39m,\u001b[32m1\u001b[39m,\u001b[32m1\u001b[39m]\n\u001b[32m     25\u001b[39m ]).astype(np.float32)\n\u001b[32m     27\u001b[39m start_time = time.time()\n\u001b[32m---> \u001b[39m\u001b[32m28\u001b[39m a_c_new = depthwise_color_constancy(\n\u001b[32m     29\u001b[39m     \u001b[32m10000\u001b[39m,\n\u001b[32m     30\u001b[39m     p,\n\u001b[32m     31\u001b[39m     \u001b[38;5;28;01mFalse\u001b[39;00m,\n\u001b[32m     32\u001b[39m     \u001b[32m0.0\u001b[39m,\n\u001b[32m     33\u001b[39m     depth,\n\u001b[32m     34\u001b[39m     kernal_shape,\n\u001b[32m     35\u001b[39m     rgb\n\u001b[32m     36\u001b[39m ).reshape((\u001b[32m480\u001b[39m,\u001b[32m640\u001b[39m,\u001b[32m3\u001b[39m))\n\u001b[32m     37\u001b[39m data_collection[new_file_path] = {\n\u001b[32m     38\u001b[39m     \u001b[33m\"\u001b[39m\u001b[33mtime\u001b[39m\u001b[33m\"\u001b[39m: time.time() - start_time\n\u001b[32m     39\u001b[39m }\n\u001b[32m     40\u001b[39m os.makedirs(\u001b[33mf\u001b[39m\u001b[33m\"\u001b[39m\u001b[38;5;132;01m{\u001b[39;00mdata_dir\u001b[38;5;132;01m}\u001b[39;00m\u001b[33m/../\u001b[39m\u001b[38;5;132;01m{\u001b[39;00mnew_file_parent\u001b[38;5;132;01m}\u001b[39;00m\u001b[33m\"\u001b[39m, exist_ok=\u001b[38;5;28;01mTrue\u001b[39;00m)\n",
      "\u001b[31mKeyboardInterrupt\u001b[39m: "
     ]
    }
   ],
   "source": [
    "# import csv\n",
    "# import time\n",
    "\n",
    "# data_dir = \"../data/nyu_data/data\"\n",
    "# data_collection = {}\n",
    "# p = 0.9999\n",
    "# with open(f\"{data_dir}/nyu2_train.csv\", 'r') as file:\n",
    "#     csv_reader = csv.reader(file)\n",
    "#     for row in csv_reader:\n",
    "\n",
    "#         new_file_path = row[1].replace(\"nyu2_train\", \"nyu2_constancy\")\n",
    "#         new_file_parent = \"/\".join(\n",
    "#                     new_file_path.split(\"/\")[:-1]\n",
    "#         )\n",
    "\n",
    "#         rgb = cv2.imread(f\"{data_dir}/../{row[0]}\").astype(np.float32)/255\n",
    "#         depth = cv2.imread(f\"{data_dir}/../{row[1]}\").astype(np.float32)\n",
    "#         depth = depth#/depth.max()\n",
    "#         depth = depth.mean(axis=2)\n",
    "\n",
    "#         kernal_shape = np.array([\n",
    "#             [1,1,1],\n",
    "#             [1,1,1],\n",
    "#             [1,1,1]\n",
    "#         ]).astype(np.float32)\n",
    "        \n",
    "#         start_time = time.time()\n",
    "#         # a_c_new = depthwise_color_constancy(\n",
    "#         #     10000,\n",
    "#         #     p,\n",
    "#         #     False,\n",
    "#         #     0.0,\n",
    "#         #     depth,\n",
    "#         #     kernal_shape,\n",
    "#         #     rgb\n",
    "#         # ).reshape((480,640,3))\n",
    "#         # data_collection[new_file_path] = {\n",
    "#         #     \"time\": time.time() - start_time\n",
    "#         # }\n",
    "#         # os.makedirs(f\"{data_dir}/../{new_file_parent}\", exist_ok=True)\n",
    "#         # cv2.imwrite(f\"{data_dir}/../{new_file_path}\", a_c_new * 255)\n",
    "#         # cv2.imwrite(f\"FIXED_QUESTION_MARK.png\", a_c_new * 255)\n",
    "#         # print(new_file_path)"
   ]
  },
  {
   "cell_type": "code",
   "execution_count": null,
   "metadata": {},
   "outputs": [
    {
     "name": "stderr",
     "output_type": "stream",
     "text": [
      "Clipping input data to the valid range for imshow with RGB data ([0..1] for floats or [0..255] for integers). Got range [3.5292652..254.99998].\n"
     ]
    },
    {
     "data": {
      "text/plain": [
       "<matplotlib.image.AxesImage at 0x7aa484519490>"
      ]
     },
     "execution_count": 3,
     "metadata": {},
     "output_type": "execute_result"
    },
    {
     "data": {
      "image/png": "[encoded data removed]",
      "text/plain": [
       "<Figure size 640x480 with 1 Axes>"
      ]
     },
     "metadata": {},
     "output_type": "display_data"
    }
   ],
   "source": [
    "kernal_shape = np.array([\n",
    "            [1,1,1],\n",
    "            [1,1,1],\n",
    "            [1,1,1]\n",
    "        ]).astype(np.float32)\n",
    "\n",
    "height, width, channels = (32 * 15,32 * 15,3)\n",
    "\n",
    "depth2 = np.zeros((height, width),dtype=depth.dtype)\n",
    "\n",
    "rgb2 = np.ones((height, width, channels), dtype=rgb.dtype)\n",
    "\n",
    "a_c_new = depthwise_color_constancy(\n",
    "            100,\n",
    "            p,\n",
    "            False,\n",
    "            0.0,\n",
    "            depth2,\n",
    "            kernal_shape,\n",
    "            rgb2\n",
    "        ).reshape((height, width, channels))\n",
    "plt.imshow(a_c_new * 255)"
   ]
  },
  {
   "cell_type": "code",
   "execution_count": null,
   "metadata": {},
   "outputs": [],
   "source": []
  }
 ],
 "metadata": {
  "kernelspec": {
   "display_name": ".venv",
   "language": "python",
   "name": "python3"
  },
  "language_info": {
   "codemirror_mode": {
    "name": "ipython",
    "version": 3
   },
   "file_extension": ".py",
   "mimetype": "text/x-python",
   "name": "python",
   "nbconvert_exporter": "python",
   "pygments_lexer": "ipython3",
   "version": "3.11.11"
  }
 },
 "nbformat": 4,
 "nbformat_minor": 2
}
